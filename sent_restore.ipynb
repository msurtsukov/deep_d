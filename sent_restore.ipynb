{
 "cells": [
  {
   "cell_type": "code",
   "execution_count": 1,
   "metadata": {
    "collapsed": true
   },
   "outputs": [],
   "source": [
    "import pandas as pd\n",
    "from pymorphy2 import MorphAnalyzer\n",
    "morph = MorphAnalyzer()"
   ]
  },
  {
   "cell_type": "code",
   "execution_count": 2,
   "metadata": {},
   "outputs": [
    {
     "data": {
      "text/html": [
       "<div>\n",
       "<table border=\"1\" class=\"dataframe\">\n",
       "  <thead>\n",
       "    <tr style=\"text-align: right;\">\n",
       "      <th></th>\n",
       "      <th>0</th>\n",
       "    </tr>\n",
       "  </thead>\n",
       "  <tbody>\n",
       "    <tr>\n",
       "      <th>0</th>\n",
       "      <td>&lt;@&gt;_&lt;@&gt;_&lt;@&gt;_&lt;.&gt;</td>\n",
       "    </tr>\n",
       "    <tr>\n",
       "      <th>1</th>\n",
       "      <td>Бедная_невеста_&lt;.&gt;</td>\n",
       "    </tr>\n",
       "    <tr>\n",
       "      <th>2</th>\n",
       "      <td>Комедия_в_пяти_действиях_&lt;.&gt;</td>\n",
       "    </tr>\n",
       "    <tr>\n",
       "      <th>3</th>\n",
       "      <td>ЛИЦА_&lt;:&gt;_&lt;@&gt;_&lt;@&gt;_&lt;@&gt;_&lt;,&gt;_вдова_небогатого_чино...</td>\n",
       "    </tr>\n",
       "    <tr>\n",
       "      <th>4</th>\n",
       "      <td>&lt;@&gt;_&lt;@&gt;_&lt;,&gt;_ее_дочь_&lt;.&gt;</td>\n",
       "    </tr>\n",
       "  </tbody>\n",
       "</table>\n",
       "</div>"
      ],
      "text/plain": [
       "                                                   0\n",
       "0                                    <@>_<@>_<@>_<.>\n",
       "1                                 Бедная_невеста_<.>\n",
       "2                       Комедия_в_пяти_действиях_<.>\n",
       "3  ЛИЦА_<:>_<@>_<@>_<@>_<,>_вдова_небогатого_чино...\n",
       "4                            <@>_<@>_<,>_ее_дочь_<.>"
      ]
     },
     "execution_count": 2,
     "metadata": {},
     "output_type": "execute_result"
    }
   ],
   "source": [
    "raw_data = pd.read_csv(\"data/merged_punct_tokenize.csv\", header=None, sep=';', dtype=str)\n",
    "raw_data.fillna(\"<НЕИЗВ>\")\n",
    "raw_data = raw_data.astype(str)\n",
    "raw_data.head()"
   ]
  },
  {
   "cell_type": "code",
   "execution_count": 11,
   "metadata": {},
   "outputs": [
    {
     "name": "stdout",
     "output_type": "stream",
     "text": [
      "CPU times: user 3min 50s, sys: 914 ms, total: 3min 51s\n",
      "Wall time: 3min 51s\n"
     ]
    }
   ],
   "source": [
    "%%time\n",
    "with open('data/merged_word_restore.txt', \"w\") as f:\n",
    "    for i, row in raw_data.iterrows():\n",
    "        words = row[0].split(\"_\")\n",
    "        tags  = row[1].split(\"_\")\n",
    "        line  = \"\"\n",
    "        for w, t in zip(words, tags):\n",
    "    #         print(w, t, end=\";\")\n",
    "            if t == \"НЕИЗВ\":\n",
    "                line += w + \" \"\n",
    "                continue\n",
    "            else:\n",
    "                there = False\n",
    "                variants = morph.parse(w)\n",
    "                for variant in variants:\n",
    "                    for l in variant.lexeme:\n",
    "                        if l.tag.cyr_repr == t:\n",
    "                            line += l.word + \" \"\n",
    "                            there = True\n",
    "                            break\n",
    "                    if there:\n",
    "                        break\n",
    "                if there:\n",
    "                    continue\n",
    "            line += w + \" \"\n",
    "\n",
    "        print(line, file=f)"
   ]
  },
  {
   "cell_type": "code",
   "execution_count": 3,
   "metadata": {},
   "outputs": [
    {
     "name": "stdout",
     "output_type": "stream",
     "text": [
      "head: merged_word_restore.txt: No such file or directory\r\n"
     ]
    }
   ],
   "source": [
    "!head merged_word_restore.txt"
   ]
  },
  {
   "cell_type": "code",
   "execution_count": null,
   "metadata": {
    "collapsed": true
   },
   "outputs": [],
   "source": []
  }
 ],
 "metadata": {
  "kernelspec": {
   "display_name": "Python 3",
   "language": "python",
   "name": "python3"
  },
  "language_info": {
   "codemirror_mode": {
    "name": "ipython",
    "version": 3
   },
   "file_extension": ".py",
   "mimetype": "text/x-python",
   "name": "python",
   "nbconvert_exporter": "python",
   "pygments_lexer": "ipython3",
   "version": "3.6.0"
  }
 },
 "nbformat": 4,
 "nbformat_minor": 2
}
