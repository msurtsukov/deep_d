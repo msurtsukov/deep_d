{
 "cells": [
  {
   "cell_type": "code",
   "execution_count": 1,
   "metadata": {
    "collapsed": true
   },
   "outputs": [],
   "source": [
    "import tensorflow as tf\n",
    "from functools import partial\n",
    "from libs.pipeline_utils import build_sampler_env, sample\n",
    "from libs.pipeline_utils import wrap_list_with_score, simple_probability_pipeline, probability\n",
    "from libs.utils import load_dictionary, load_transformer, top_best, load_dis"
   ]
  },
  {
   "cell_type": "code",
   "execution_count": 2,
   "metadata": {
    "collapsed": true
   },
   "outputs": [],
   "source": [
    "n_items = 1000\n",
    "batch_size = 64\n",
    "enc_seq_len = 64\n",
    "dec_seq_len = 64"
   ]
  },
  {
   "cell_type": "code",
   "execution_count": 3,
   "metadata": {},
   "outputs": [
    {
     "name": "stdout",
     "output_type": "stream",
     "text": [
      "INFO:tensorflow:Restoring parameters from ./models/shm_c1\\model.ckpt-58519\n",
      "INFO:tensorflow:Restoring parameters from ./models/shm_c1\\model.ckpt-58519\n"
     ]
    }
   ],
   "source": [
    "load_dir = \"./models/shm_c1\"\n",
    "sampler_args = build_sampler_env(load_dir, batch_size, enc_seq_len, dec_seq_len)"
   ]
  },
  {
   "cell_type": "code",
   "execution_count": 4,
   "metadata": {
    "collapsed": true
   },
   "outputs": [],
   "source": [
    "dictionary = load_dictionary(\"./data/\")\n",
    "transformer = load_transformer(load_dir)"
   ]
  },
  {
   "cell_type": "code",
   "execution_count": 5,
   "metadata": {},
   "outputs": [
    {
     "name": "stderr",
     "output_type": "stream",
     "text": [
      "Using TensorFlow backend.\n"
     ]
    }
   ],
   "source": [
    "dis_be = load_dis('./models/', 'believability')\n",
    "dis_st = load_dis('./models/', 'style')"
   ]
  },
  {
   "cell_type": "code",
   "execution_count": 6,
   "metadata": {
    "collapsed": true
   },
   "outputs": [],
   "source": [
    "be_f = partial(probability, model=dis_be, transformer=transformer)\n",
    "st_f = partial(probability, model=dis_st, transformer=transformer)"
   ]
  },
  {
   "cell_type": "code",
   "execution_count": 28,
   "metadata": {
    "collapsed": true
   },
   "outputs": [],
   "source": [
    "sample_f = partial(sample, *sampler_args, \n",
    "                   dictionary=dictionary, \n",
    "                   transformer=transformer, \n",
    "                   n_items=n_items,\n",
    "                   batch_size=64)"
   ]
  },
  {
   "cell_type": "code",
   "execution_count": 30,
   "metadata": {},
   "outputs": [
    {
     "data": {
      "text/plain": [
       "[('вс это я не мог уступить его.', 0.055512903658601509),\n",
       " ('стало быть, вс равно.', 0.015953690253754149),\n",
       " ('вс это мирно вздохнуло.', 0.010838032032603528),\n",
       " ('помешанная дуэль.', 0.0054163668836402223),\n",
       " ('даже както радуется играю...', 0.0050736914676916822),\n",
       " ('вообще, господин кармазинов.', 0.0042690126009892193),\n",
       " ('вс равно.', 0.0040625381958947493),\n",
       " ('этот фазис есть первый бежать.', 0.0039521296100136494),\n",
       " ('поднялись еще одиннадцати.', 0.0035245433235120693),\n",
       " ('тотчас же и гадко.', 0.0034199389962527443),\n",
       " ('долго еще обнимала руки.', 0.0034150487911929761),\n",
       " ('его вс поняла?', 0.0033131582661558856),\n",
       " ('опятьтаки крокодиль!', 0.0032488685381335536),\n",
       " ('оставим его, хотите выпить.', 0.0026585096284126308),\n",
       " ('весь оба пропавший прокурор.', 0.0023842989372000745),\n",
       " ('он стоял перед обеими руками.', 0.0023347105896932008),\n",
       " ('сам слушает меня.', 0.0022978681230691744),\n",
       " ('старуха в исступлении сила  гм.', 0.0022110957676904491),\n",
       " ('как бы вы это вселили?', 0.0021690745612708839),\n",
       " ('он надел и теперь под конец веровал.', 0.0018636373451779153)]"
      ]
     },
     "execution_count": 30,
     "metadata": {},
     "output_type": "execute_result"
    }
   ],
   "source": [
    "seed_phrase = 'Прогуляемся по крышам'\n",
    "simple_probability_pipeline(seed_phrase, sample_f, [be_f, st_f], topn=0.02)"
   ]
  },
  {
   "cell_type": "code",
   "execution_count": null,
   "metadata": {
    "collapsed": true
   },
   "outputs": [],
   "source": []
  }
 ],
 "metadata": {
  "kernelspec": {
   "display_name": "Python 3",
   "language": "python",
   "name": "python3"
  },
  "language_info": {
   "codemirror_mode": {
    "name": "ipython",
    "version": 3
   },
   "file_extension": ".py",
   "mimetype": "text/x-python",
   "name": "python",
   "nbconvert_exporter": "python",
   "pygments_lexer": "ipython3",
   "version": "3.6.1"
  }
 },
 "nbformat": 4,
 "nbformat_minor": 1
}
