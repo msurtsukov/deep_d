{
 "cells": [
  {
   "cell_type": "code",
   "execution_count": null,
   "metadata": {
    "collapsed": true
   },
   "outputs": [],
   "source": [
    "import tensorflow as tf\n",
    "from functools import partial\n",
    "from libs.pipeline_utils import build_sampler_env, sample\n",
    "from libs.pipeline_utils import wrap_list_with_score, simple_probability_pipeline, probability, meaning_probability\n",
    "from libs.utils import load_dictionary, load_transformer, top_best, load_dis"
   ]
  },
  {
   "cell_type": "code",
   "execution_count": null,
   "metadata": {
    "collapsed": true
   },
   "outputs": [],
   "source": [
    "n_items = 10000\n",
    "batch_size = 64\n",
    "enc_seq_len = 32\n",
    "dec_seq_len = 64"
   ]
  },
  {
   "cell_type": "code",
   "execution_count": null,
   "metadata": {
    "collapsed": true
   },
   "outputs": [],
   "source": [
    "load_dir = \"./models/shm_c2\"\n",
    "sampler_args = build_sampler_env(load_dir, batch_size, enc_seq_len, dec_seq_len)"
   ]
  },
  {
   "cell_type": "code",
   "execution_count": null,
   "metadata": {
    "collapsed": true
   },
   "outputs": [],
   "source": [
    "dictionary = load_dictionary(\"./data/\")\n",
    "transformer = load_transformer(load_dir)"
   ]
  },
  {
   "cell_type": "code",
   "execution_count": null,
   "metadata": {
    "collapsed": true
   },
   "outputs": [],
   "source": [
    "with tf.device(\"/cpu:0\"):\n",
    "    dis_be = load_dis('./models/', 'believability')\n",
    "    dis_st = load_dis('./models/', 'style')"
   ]
  },
  {
   "cell_type": "code",
   "execution_count": null,
   "metadata": {
    "collapsed": true
   },
   "outputs": [],
   "source": [
    "dis_me = load_dis('./models/', 'meaning')"
   ]
  },
  {
   "cell_type": "code",
   "execution_count": null,
   "metadata": {
    "collapsed": true
   },
   "outputs": [],
   "source": [
    "be_f = partial(probability, model=dis_be, transformer=transformer)\n",
    "st_f = partial(probability, model=dis_st, transformer=transformer)"
   ]
  },
  {
   "cell_type": "code",
   "execution_count": null,
   "metadata": {
    "collapsed": true
   },
   "outputs": [],
   "source": [
    "softmax_temp = 0.8\n",
    "sample_f = partial(sample, *sampler_args, \n",
    "                   dictionary=dictionary, \n",
    "                   transformer=transformer, \n",
    "                   n_items=n_items,\n",
    "                   batch_size=batch_size,\n",
    "                   softmax_t=softmax_temp)"
   ]
  },
  {
   "cell_type": "code",
   "execution_count": null,
   "metadata": {
    "collapsed": true,
    "scrolled": false
   },
   "outputs": [],
   "source": [
    "seed_phrase = 'Девушка плакала на крыше\\n'\n",
    "me_f = partial(meaning_probability, model=dis_me, seed_phrase=seed_phrase)"
   ]
  },
  {
   "cell_type": "code",
   "execution_count": null,
   "metadata": {
    "collapsed": true
   },
   "outputs": [],
   "source": [
    "simple_probability_pipeline(seed_phrase, sample_f, [be_f, st_f, me_f], topn=0.02)"
   ]
  },
  {
   "cell_type": "code",
   "execution_count": null,
   "metadata": {
    "collapsed": true
   },
   "outputs": [],
   "source": []
  }
 ],
 "metadata": {
  "kernelspec": {
   "display_name": "Python 3",
   "language": "python",
   "name": "python3"
  },
  "language_info": {
   "codemirror_mode": {
    "name": "ipython",
    "version": 3
   },
   "file_extension": ".py",
   "mimetype": "text/x-python",
   "name": "python",
   "nbconvert_exporter": "python",
   "pygments_lexer": "ipython3",
   "version": "3.6.1"
  }
 },
 "nbformat": 4,
 "nbformat_minor": 1
}
