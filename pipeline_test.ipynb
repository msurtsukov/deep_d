{
 "cells": [
  {
   "cell_type": "code",
   "execution_count": 1,
   "metadata": {
    "collapsed": true
   },
   "outputs": [],
   "source": [
    "from libs.pipeline_utils import build_sampler_env, sample"
   ]
  },
  {
   "cell_type": "code",
   "execution_count": 2,
   "metadata": {
    "collapsed": true
   },
   "outputs": [],
   "source": [
    "batch_size = 64\n",
    "enc_seq_len = 64\n",
    "dec_seq_len = 201"
   ]
  },
  {
   "cell_type": "code",
   "execution_count": 3,
   "metadata": {
    "collapsed": true
   },
   "outputs": [],
   "source": [
    "load_dir = \"./save/shm_c1\""
   ]
  },
  {
   "cell_type": "code",
   "execution_count": 4,
   "metadata": {},
   "outputs": [
    {
     "name": "stdout",
     "output_type": "stream",
     "text": [
      "INFO:tensorflow:Restoring parameters from ./save/shm_c1/model.ckpt-58519\n",
      "INFO:tensorflow:Restoring parameters from ./save/shm_c1/model.ckpt-58519\n"
     ]
    }
   ],
   "source": [
    "sampler_args = build_sampler_env(load_dir, batch_size, enc_seq_len, dec_seq_len)"
   ]
  },
  {
   "cell_type": "code",
   "execution_count": 12,
   "metadata": {
    "collapsed": true
   },
   "outputs": [],
   "source": [
    "seed_phrase = 'Здравствуйте, как ваше здоровье?'\n",
    "n_items = 10000"
   ]
  },
  {
   "cell_type": "code",
   "execution_count": 6,
   "metadata": {
    "collapsed": true
   },
   "outputs": [],
   "source": [
    "from libs.utils import load_dictionary, load_transformer"
   ]
  },
  {
   "cell_type": "code",
   "execution_count": 8,
   "metadata": {},
   "outputs": [],
   "source": [
    "dictionary = load_dictionary(\"./data/\")\n",
    "transformer = load_transformer(load_dir)"
   ]
  },
  {
   "cell_type": "code",
   "execution_count": 13,
   "metadata": {},
   "outputs": [
    {
     "name": "stdout",
     "output_type": "stream",
     "text": [
      "CPU times: user 2h 16min 59s, sys: 5min 20s, total: 2h 22min 19s\n",
      "Wall time: 28min 15s\n"
     ]
    }
   ],
   "source": [
    "%%time\n",
    "sampled = sample(*sampler_args, \n",
    "                 dictionary=dictionary, \n",
    "                 transformer=transformer, \n",
    "                 seed_phrase=seed_phrase, \n",
    "                 n_items=n_items,\n",
    "                 batch_size=batch_size)"
   ]
  },
  {
   "cell_type": "code",
   "execution_count": 26,
   "metadata": {},
   "outputs": [
    {
     "data": {
      "text/plain": [
       "['так я теперь все узнаю да мне то, что вы мне нужны, коль я угадаю.',\n",
       " 'позвольтес, сидите исследовать: да, боже мой!',\n",
       " 'лицо его выражало чемто веселым.',\n",
       " 'сорока моя тетушка!',\n",
       " 'идиот, поля!',\n",
       " 'рассказывал я нам,  но князь немного вскинул плечами.',\n",
       " 'он не отвечал, настенька, мне в дом не было оставлять в прекрасные слова.',\n",
       " 'известно, что лучше себя не бежать.',\n",
       " 'я  ответчик он мог всегда только вытащить.',\n",
       " 'позвольте мне уйти.']"
      ]
     },
     "execution_count": 26,
     "metadata": {},
     "output_type": "execute_result"
    }
   ],
   "source": [
    "sampled[:10]"
   ]
  },
  {
   "cell_type": "code",
   "execution_count": 15,
   "metadata": {
    "collapsed": true
   },
   "outputs": [],
   "source": [
    "from libs.pipeline_utils import wrap_list_with_score"
   ]
  },
  {
   "cell_type": "code",
   "execution_count": 27,
   "metadata": {},
   "outputs": [],
   "source": [
    "wrapped = wrap_list_with_score(sampled)"
   ]
  },
  {
   "cell_type": "code",
   "execution_count": 17,
   "metadata": {
    "collapsed": true
   },
   "outputs": [],
   "source": [
    "from libs.utils import top_best"
   ]
  },
  {
   "cell_type": "code",
   "execution_count": 28,
   "metadata": {},
   "outputs": [
    {
     "data": {
      "text/plain": [
       "[('так я теперь все узнаю да мне то, что вы мне нужны, коль я угадаю.', 1.0),\n",
       " ('позвольтес, сидите исследовать: да, боже мой!', 1.0)]"
      ]
     },
     "execution_count": 28,
     "metadata": {},
     "output_type": "execute_result"
    }
   ],
   "source": [
    "top_best(wrap_list_with_score(sampled), 0.0002)"
   ]
  },
  {
   "cell_type": "code",
   "execution_count": 32,
   "metadata": {},
   "outputs": [],
   "source": [
    "from libs.utils import load_dis\n",
    "\n",
    "dis = load_dis('./models/', 'believability')"
   ]
  },
  {
   "cell_type": "code",
   "execution_count": 34,
   "metadata": {
    "collapsed": true
   },
   "outputs": [],
   "source": [
    "from libs.pipeline_utils import simple_probability_pipeline, probability"
   ]
  },
  {
   "cell_type": "code",
   "execution_count": 35,
   "metadata": {
    "collapsed": true
   },
   "outputs": [],
   "source": [
    "from functools import partial"
   ]
  },
  {
   "cell_type": "code",
   "execution_count": 36,
   "metadata": {
    "collapsed": true
   },
   "outputs": [],
   "source": [
    "be_f = partial(probability, model=dis, transformer=transformer)"
   ]
  },
  {
   "cell_type": "code",
   "execution_count": 37,
   "metadata": {
    "collapsed": true
   },
   "outputs": [],
   "source": [
    "sample_f = partial(sample, *sampler_args, \n",
    "                   dictionary=dictionary, \n",
    "                   transformer=transformer, \n",
    "                   seed_phrase=seed_phrase, \n",
    "                   n_items=100,\n",
    "                   batch_size=64)"
   ]
  },
  {
   "cell_type": "code",
   "execution_count": 39,
   "metadata": {},
   "outputs": [
    {
     "data": {
      "text/plain": [
       "[('смотри!', 0.53956571538026665),\n",
       " ('должно быть!', 0.54014616695964435),\n",
       " ('господи боже мой!', 0.54020416794833181),\n",
       " ('и как так запретили!', 0.54057923438085709)]"
      ]
     },
     "execution_count": 39,
     "metadata": {},
     "output_type": "execute_result"
    }
   ],
   "source": [
    "simple_probability_pipeline(sample_f, [be_f, be_f], topn=0.2)"
   ]
  },
  {
   "cell_type": "code",
   "execution_count": null,
   "metadata": {
    "collapsed": true
   },
   "outputs": [],
   "source": []
  }
 ],
 "metadata": {
  "kernelspec": {
   "display_name": "Python 3",
   "language": "python",
   "name": "python3"
  },
  "language_info": {
   "codemirror_mode": {
    "name": "ipython",
    "version": 3
   },
   "file_extension": ".py",
   "mimetype": "text/x-python",
   "name": "python",
   "nbconvert_exporter": "python",
   "pygments_lexer": "ipython3",
   "version": "3.6.0"
  }
 },
 "nbformat": 4,
 "nbformat_minor": 1
}
