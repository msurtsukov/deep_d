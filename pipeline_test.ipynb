{
 "cells": [
  {
   "cell_type": "code",
   "execution_count": 2,
   "metadata": {
    "collapsed": true
   },
   "outputs": [],
   "source": [
    "import tensorflow as tf\n",
    "from functools import partial\n",
    "from libs.pipeline_utils import build_sampler_env, sample\n",
    "from libs.pipeline_utils import wrap_list_with_score, simple_probability_pipeline, probability\n",
    "from libs.utils import load_dictionary, load_transformer, top_best, load_dis"
   ]
  },
  {
   "cell_type": "code",
   "execution_count": null,
   "metadata": {
    "collapsed": true
   },
   "outputs": [],
   "source": [
    "n_items = 1000\n",
    "batch_size = 64\n",
    "enc_seq_len = 64\n",
    "dec_seq_len = 64"
   ]
  },
  {
   "cell_type": "code",
   "execution_count": 4,
   "metadata": {
    "collapsed": true
   },
   "outputs": [],
   "source": [
    "load_dir = \"./models/shm_c1\"\n",
    "sampler_args = build_sampler_env(load_dir, batch_size, enc_seq_len, dec_seq_len)"
   ]
  },
  {
   "cell_type": "code",
   "execution_count": 5,
   "metadata": {
    "collapsed": true
   },
   "outputs": [],
   "source": [
    "dictionary = load_dictionary(\"./data/\")\n",
    "transformer = load_transformer(load_dir)"
   ]
  },
  {
   "cell_type": "code",
   "execution_count": 6,
   "metadata": {},
   "outputs": [
    {
     "data": {
      "text/plain": [
       "{'\\n': 0,\n",
       " ' ': 1,\n",
       " '!': 40,\n",
       " '\"': 37,\n",
       " ',': 38,\n",
       " '-': 36,\n",
       " '.': 39,\n",
       " ':': 35,\n",
       " '?': 41,\n",
       " 'а': 2,\n",
       " 'б': 3,\n",
       " 'в': 4,\n",
       " 'г': 5,\n",
       " 'д': 6,\n",
       " 'е': 7,\n",
       " 'ж': 9,\n",
       " 'з': 10,\n",
       " 'и': 11,\n",
       " 'й': 12,\n",
       " 'к': 13,\n",
       " 'л': 14,\n",
       " 'м': 15,\n",
       " 'н': 16,\n",
       " 'о': 17,\n",
       " 'п': 18,\n",
       " 'р': 19,\n",
       " 'с': 20,\n",
       " 'т': 21,\n",
       " 'у': 22,\n",
       " 'ф': 23,\n",
       " 'х': 24,\n",
       " 'ц': 25,\n",
       " 'ч': 26,\n",
       " 'ш': 27,\n",
       " 'щ': 28,\n",
       " 'ъ': 29,\n",
       " 'ы': 30,\n",
       " 'ь': 31,\n",
       " 'э': 32,\n",
       " 'ю': 33,\n",
       " 'я': 34,\n",
       " 'ё': 8}"
      ]
     },
     "execution_count": 6,
     "metadata": {},
     "output_type": "execute_result"
    }
   ],
   "source": [
    "transformer.vocab"
   ]
  },
  {
   "cell_type": "code",
   "execution_count": null,
   "metadata": {
    "collapsed": true
   },
   "outputs": [],
   "source": [
    "with tf.device(\"/cpu:0\"):\n",
    "    dis_be = load_dis('./models/', 'believability')\n",
    "    dis_st = load_dis('./models/', 'style')"
   ]
  },
  {
   "cell_type": "code",
   "execution_count": null,
   "metadata": {
    "collapsed": true
   },
   "outputs": [],
   "source": [
    "be_f = partial(probability, model=dis_be, transformer=transformer)\n",
    "st_f = partial(probability, model=dis_st, transformer=transformer)"
   ]
  },
  {
   "cell_type": "code",
   "execution_count": null,
   "metadata": {
    "collapsed": true
   },
   "outputs": [],
   "source": [
    "sample_f = partial(sample, *sampler_args, \n",
    "                   dictionary=dictionary, \n",
    "                   transformer=transformer, \n",
    "                   n_items=n_items,\n",
    "                   batch_size=64)"
   ]
  },
  {
   "cell_type": "code",
   "execution_count": null,
   "metadata": {
    "collapsed": true
   },
   "outputs": [],
   "source": [
    "seed_phrase = 'Прогуляемся по крышам'\n",
    "simple_probability_pipeline(seed_phrase, sample_f, [be_f, st_f], topn=0.02)"
   ]
  },
  {
   "cell_type": "code",
   "execution_count": null,
   "metadata": {
    "collapsed": true
   },
   "outputs": [],
   "source": []
  }
 ],
 "metadata": {
  "kernelspec": {
   "display_name": "Python 3",
   "language": "python",
   "name": "python3"
  },
  "language_info": {
   "codemirror_mode": {
    "name": "ipython",
    "version": 3
   },
   "file_extension": ".py",
   "mimetype": "text/x-python",
   "name": "python",
   "nbconvert_exporter": "python",
   "pygments_lexer": "ipython3",
   "version": "3.6.1"
  }
 },
 "nbformat": 4,
 "nbformat_minor": 1
}
