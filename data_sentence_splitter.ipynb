{
 "cells": [
  {
   "cell_type": "code",
   "execution_count": 1,
   "metadata": {
    "collapsed": true
   },
   "outputs": [],
   "source": [
    "import re"
   ]
  },
  {
   "cell_type": "code",
   "execution_count": 2,
   "metadata": {
    "collapsed": true
   },
   "outputs": [],
   "source": [
    "# да простят мне боги все это месиво из регулярок - старался не разделять прямую речь на отдельные предложения, а также\n",
    "# учитывать любовь Федора Михайловича ставить терминальные знаки препинания посреди предложений\n",
    "# вроде работает, но сам уже тут не разберусь, пихал сюда регулярки последовательно избавляясь от проблем и создавая новые\n",
    "def process_text(text):\n",
    "    symbs = re.compile(r\"[^А-Яа-я:!\\?,\\.\\\"— - \\n]\")\n",
    "    text = re.sub(symbs, \"\", text)\n",
    "\n",
    "    text = re.sub(r'\\*|\\x01|\\xa0|--|\\t|\"|(\\[.*\\])', \"\", text)\n",
    "    text = re.sub(r'[A-Za-z]+[!.,;:\\-?]*', \"\", text)\n",
    "    text = re.sub(r\"\\n[ ]+\", \"\\n\", text)\n",
    "    text = re.sub(r\"[ ]+\", \" \", text)\n",
    "    text = re.sub(r'(?<=[А-Яа-я,;:\\—\" ])\\n(?=[а-яPS])', r\" \", text)\n",
    "    text = re.sub(r\"\\n+\", \"\\n\", text)\n",
    "    text = re.sub(r\"(?<=[А-Яа-я])[ ]*\\n\", r\".\\n\", text)\n",
    "    text = re.sub(r\"\\n+\", \"\\n\", text)\n",
    "    text = re.sub(r\"\\n(?! \\— [а-я])\", \"\", text)\n",
    "    text = re.sub(r\"([!?.,:;]+)(?=[А-Яа-я])\", r\"\\1 \", text)\n",
    "    text = re.sub(r\"(?<!\\W[А-Я]\\.)(?<!\\WP\\.)(?<!\\WP\\. S\\.)(?<!\\W(т|Т)\\.)(?<!\\W(т|Т)\\. (к|К|д|Д)\\.)(?<=\\.|\\?|\\!)(?! [а-я])(?! \\— [а-я])\\s\", \"\\n\", text)\n",
    "    text = re.sub(r\"\\n+\", \"\\n\", text)\n",
    "    text = re.sub(r\";\", \",\", text)\n",
    "    text = re.sub(r\"\\—(?=.)\", \"— \", text)\n",
    "    text = re.sub(r\"([!?.,:;]+)(?=[А-Яа-я])\", r\"\\1 \", text)\n",
    "    text = re.sub(r\"(?<=[!?.,:;])\\—\", \" —\", text)\n",
    "    text = re.sub(r\"\\.{4,}\", \"\", text)\n",
    "    text = re.sub(r\"\\s\\.\\s\", \"\\n\", text)\n",
    "    text = re.sub(r\"(?<=[!.,?:;])P.\", \"\\nP.\", text)\n",
    "    text = re.sub(r\"(?<=[!.,?:;])\\— (?![а-я])\", \"\\n—\", text)\n",
    "    text = re.sub(r\"(?<!\\W[А-Я]\\.)(?<!\\WP\\.)(?<!\\WP\\. S\\.)(?<!\\W(т|Т)\\.)(?<!\\W(т|Т)\\. (к|К|д|Д)\\.)(?<=\\.|\\?|\\!)(?! [а-я])(?! \\— [а-я])\\s\", \"\\n\", text)\n",
    "    text = re.sub(r\"(?<=[!?.,:;])\\n\\— (?=[а-я])\", \" — \", text)\n",
    "    text = re.sub(r\"\\([\\d]*\\)\", \"\", text)\n",
    "    text = re.sub(r\"(\\.\\n){2,}\", \"\\n\", text)\n",
    "    text = re.sub(r\"[IXV]+\", r\"\", text)\n",
    "    text = re.sub(r\"\\s\\.\\s\", \"\\n\", text)\n",
    "    text = re.sub(r\"\\s([!?.,:;])\", \"\\1\", text)\n",
    "    text = re.sub(r\"\\n+\", \"\\n\", text)\n",
    "    text = re.sub(r\"\\n[ ]+\", \"\\n\", text)\n",
    "    text = re.sub(r\"[ ]+\", \" \", text)\n",
    "    text = re.sub(r\"(?<=[!?.,:;])\\n\\— (?=[а-я])\", \" — \", text)\n",
    "    return text"
   ]
  },
  {
   "cell_type": "code",
   "execution_count": 3,
   "metadata": {
    "collapsed": true
   },
   "outputs": [],
   "source": [
    "with open(\"data/merged.txt\") as f:\n",
    "    text = f.read()"
   ]
  },
  {
   "cell_type": "code",
   "execution_count": 4,
   "metadata": {
    "collapsed": true
   },
   "outputs": [],
   "source": [
    "with open(\"data/merged_sent_split.txt\", \"w\") as f:\n",
    "    f.write(process_text(text))"
   ]
  },
  {
   "cell_type": "code",
   "execution_count": null,
   "metadata": {
    "collapsed": true
   },
   "outputs": [],
   "source": []
  }
 ],
 "metadata": {
  "anaconda-cloud": {},
  "kernelspec": {
   "display_name": "Python 3",
   "language": "python",
   "name": "python3"
  },
  "language_info": {
   "codemirror_mode": {
    "name": "ipython",
    "version": 3
   },
   "file_extension": ".py",
   "mimetype": "text/x-python",
   "name": "python",
   "nbconvert_exporter": "python",
   "pygments_lexer": "ipython3",
   "version": "3.6.0"
  }
 },
 "nbformat": 4,
 "nbformat_minor": 2
}
