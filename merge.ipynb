{
 "cells": [
  {
   "cell_type": "code",
   "execution_count": null,
   "metadata": {
    "collapsed": true
   },
   "outputs": [],
   "source": [
    "import os\n",
    "\n",
    "corpora1 = \"\"\n",
    "\n",
    "for fname in os.listdir(\"data/texts/\"):    \n",
    "    with open(\"data/texts/\"+fname, 'r', encoding='utf-8') as fin:\n",
    "        print(fname)\n",
    "        text = fin.read()\n",
    "        corpora1 += text\n",
    "\n",
    "with open(\"data/merged\", \"w\", encoding=\"utf-8\") as f:\n",
    "    f.write(corpora1)"
   ]
  }
 ],
 "metadata": {
  "kernelspec": {
   "display_name": "Python 3",
   "language": "python",
   "name": "python3"
  },
  "language_info": {
   "codemirror_mode": {
    "name": "ipython",
    "version": 3
   },
   "file_extension": ".py",
   "mimetype": "text/x-python",
   "name": "python",
   "nbconvert_exporter": "python",
   "pygments_lexer": "ipython3",
   "version": "3.6.0"
  }
 },
 "nbformat": 4,
 "nbformat_minor": 2
}
